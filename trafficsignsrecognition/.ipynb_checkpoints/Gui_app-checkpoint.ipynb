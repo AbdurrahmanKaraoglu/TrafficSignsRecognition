{
 "cells": [
  {
   "cell_type": "code",
   "execution_count": 1,
   "id": "17e82288",
   "metadata": {},
   "outputs": [],
   "source": [
    "import tkinter as tk\n",
    "import numpy as np \n",
    "from tkinter import filedialog\n",
    "from tkinter import *\n",
    "from PIL import ImageTk, Image\n",
    "import numpy"
   ]
  },
  {
   "cell_type": "code",
   "execution_count": 2,
   "id": "3e90ae8c",
   "metadata": {},
   "outputs": [],
   "source": [
    "#işareti sınıflandırmak için eğitilmiş modeli yükleyin\n",
    "from keras.models import load_model\n",
    "model = load_model('traffic_classifier.h5')"
   ]
  },
  {
   "cell_type": "code",
   "execution_count": 3,
   "id": "394ad6ef",
   "metadata": {},
   "outputs": [],
   "source": [
    "#dictionary tüm trafik işaretleri sınıfını etiketlemek için.\n",
    "classes = { 1:'Hız Limiti (20km/h)',\n",
    "            2:'Hız Limiti (30km/h)',      \n",
    "            3:'Hız Limiti (50km/h)',       \n",
    "            4:'Hız Limiti (60km/h)',      \n",
    "            5:'Hız Limiti (70km/h)',    \n",
    "            6:'Hız Limiti (80km/h)',      \n",
    "            7:'Hız sınırının sonu (80km/h)',     \n",
    "            8:'Hız Limiti (100km/h)',    \n",
    "            9:'Hız Limiti (120km/h)',     \n",
    "           10:'Geçiş yok',   \n",
    "           11:'3.5 tonun üzerinde araç geçemez',     \n",
    "           12:'Geçiş hakkı kavşaktaki araçda',     \n",
    "           13:'Öncelikli yol',    \n",
    "           14:'Yol Ver',     \n",
    "           15:'Dur',       \n",
    "           16:'Araç giremez',       \n",
    "           17:'Yük Taşıtlarının Öndeki Aracı Geçmesi Yasaktır',       \n",
    "           18:'Giriş yok',       \n",
    "           19:'Dikkat',     \n",
    "           20:'Sola Tehlikeli Viraj',      \n",
    "           21:'Sağa Tehlikeli Viraj',   \n",
    "           22:'İki Tarafa Tehlikeli Viraj',      \n",
    "           23:'Engebeli Yol',     \n",
    "           24:'Kaygan yol',       \n",
    "           25:'Sağdan daralan kaplama',  \n",
    "           26:'Yol Çalışması',    \n",
    "           27:'Trafik İşaretleri',      \n",
    "           28:'Yayalar',     \n",
    "           29:'Çocuklar geçiyor',     \n",
    "           30:'Bisiklet Yolu',       \n",
    "           31:'Gizli Buzlanma',\n",
    "           32:'Vahşi Hayvan Geçebilir',      \n",
    "           33:'Bütün Yasaklama ve Kısıtlamaların Sonu',      \n",
    "           34:'Sağa dön',     \n",
    "           35:'Sola dön',       \n",
    "           36:'Sadece İleri',      \n",
    "           37:'Düz veya sağa git',      \n",
    "           38:'Düz veya sola git',      \n",
    "           39:'Sağdan Gidiniz',     \n",
    "           40:'Soldan Gidiniz',      \n",
    "           41:'Ada Etrafında Dönünüz',     \n",
    "           42:'Geçme Yasağı Sonu',      \n",
    "           43:'Yük Taşıtlarının Öndeki Aracı Geçmesi Yasağı Sonu' }"
   ]
  },
  {
   "cell_type": "code",
   "execution_count": 4,
   "id": "e2ae7b13",
   "metadata": {},
   "outputs": [],
   "source": [
    "#GUI'yi başlat\n",
    "top=tk.Tk()\n",
    "top.geometry('800x600')\n",
    "top.title('Trafik İşareti Sınıflandırması')\n",
    "top.configure(background='#79bff7')\n",
    "\n",
    "label=Label(top,background='#79bff7', font=('arial',15,'bold'))\n",
    "sign_image = Label(top)"
   ]
  },
  {
   "cell_type": "code",
   "execution_count": 5,
   "id": "1d95854b",
   "metadata": {},
   "outputs": [],
   "source": [
    "def classify(file_path):\n",
    "    global label_packed\n",
    "    image = Image.open(file_path)\n",
    "    image = image.resize((30,30))\n",
    "    image = numpy.expand_dims(image, axis=0)\n",
    "    image = numpy.array(image)\n",
    "    print(image.shape)\n",
    "    pred = np.argmax(model.predict([image])[0])\n",
    "    sign = classes[pred+1]\n",
    "    print(sign)\n",
    "    label.configure(foreground='#011638', text=sign) "
   ]
  },
  {
   "cell_type": "code",
   "execution_count": 6,
   "id": "dc807f1e",
   "metadata": {},
   "outputs": [],
   "source": [
    "def show_classify_button(file_path):\n",
    "    classify_b=Button(top,text=\"Resmi Sınıflandır\",command=lambda: classify(file_path),padx=10,pady=5)\n",
    "    classify_b.configure(background='#364156', foreground='white',font=('arial',10,'bold'))\n",
    "    classify_b.place(relx=0.79,rely=0.46)"
   ]
  },
  {
   "cell_type": "code",
   "execution_count": 7,
   "id": "a144e7ae",
   "metadata": {},
   "outputs": [],
   "source": [
    "def upload_image():\n",
    "    try:\n",
    "        file_path=filedialog.askopenfilename()\n",
    "        uploaded=Image.open(file_path)\n",
    "        uploaded.thumbnail(((top.winfo_width()/2.25),(top.winfo_height()/2.25)))\n",
    "        im=ImageTk.PhotoImage(uploaded)\n",
    "        \n",
    "        sign_image.configure(image=im)\n",
    "        sign_image.image=im\n",
    "        label.configure(text='')\n",
    "        show_classify_button(file_path)\n",
    "    except:\n",
    "        pass"
   ]
  },
  {
   "cell_type": "code",
   "execution_count": 8,
   "id": "1de2e905",
   "metadata": {},
   "outputs": [
    {
     "name": "stdout",
     "output_type": "stream",
     "text": [
      "(1, 30, 30, 3)\n",
      "Dikkat\n",
      "(1, 30, 30, 3)\n",
      "Geçiş hakkı kavşaktaki araçda\n",
      "(1, 30, 30, 3)\n",
      "Hız Limiti (50km/h)\n",
      "(1, 30, 30, 3)\n",
      "Sağa Tehlikeli Viraj\n",
      "(1, 30, 30, 3)\n",
      "Sağdan daralan kaplama\n"
     ]
    }
   ],
   "source": [
    "upload=Button(top,text=\"Görüntü yükle\",command=upload_image,padx=10,pady=5)\n",
    "upload.configure(background='#cc0003', foreground='white',font=('arial',10,'bold'))\n",
    "\n",
    "upload.pack(side=BOTTOM,pady=50)\n",
    "sign_image.pack(side=BOTTOM,expand=True)\n",
    "label.pack(side=BOTTOM,expand=True)\n",
    "heading = Label(top, text=\"Trafik İşaretini Bilin\",pady=20, font=('arial',20,'bold'))\n",
    "heading.configure(background='#79bff7',foreground='#364156')\n",
    "heading.pack()\n",
    "top.mainloop()"
   ]
  },
  {
   "cell_type": "code",
   "execution_count": null,
   "id": "67d3acb2",
   "metadata": {},
   "outputs": [],
   "source": []
  }
 ],
 "metadata": {
  "kernelspec": {
   "display_name": "Python 3",
   "language": "python",
   "name": "python3"
  },
  "language_info": {
   "codemirror_mode": {
    "name": "ipython",
    "version": 3
   },
   "file_extension": ".py",
   "mimetype": "text/x-python",
   "name": "python",
   "nbconvert_exporter": "python",
   "pygments_lexer": "ipython3",
   "version": "3.8.8"
  }
 },
 "nbformat": 4,
 "nbformat_minor": 5
}
